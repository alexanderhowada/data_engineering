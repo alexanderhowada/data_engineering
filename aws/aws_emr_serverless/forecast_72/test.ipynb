{
 "cells": [
  {
   "cell_type": "code",
   "execution_count": 1,
   "id": "8085f4f9",
   "metadata": {},
   "outputs": [],
   "source": [
    "import sys\n",
    "import pandas as pd\n",
    "from pyspark.sql import SparkSession\n",
    "from pyspark.sql import functions as F\n",
    "from pyspark.sql.types import StructType, StructField, StringType, DoubleType, ArrayType, LongType\n",
    "from delta.pip_utils import configure_spark_with_delta_pip"
   ]
  },
  {
   "cell_type": "code",
   "execution_count": 2,
   "id": "696c097b",
   "metadata": {},
   "outputs": [],
   "source": [
    "def get_spark_builder():\n",
    "    builder = SparkSession.builder \\\n",
    "        .master('local[1]') \\\n",
    "        .appName('first_script.main') \\\n",
    "        .config(\"spark.sql.extensions\", \"io.delta.sql.DeltaSparkSessionExtension\") \\\n",
    "        .config(\"spark.sql.catalog.spark_catalog\", \"org.apache.spark.sql.delta.catalog.DeltaCatalog\") \\\n",
    "        .config('spark.databricks.delta.schema.autoMerge.enabled', True) \\\n",
    "        .config('spark.hadoop.hive.metastore.client.factory.class', 'com.amazonaws.glue.catalog.metastore.AWSGlueDataCatalogHiveClientFactory') \\\n",
    "\n",
    "    return builder\n",
    "\n",
    "def get_spark_session(mode='prod'):\n",
    "    builder = get_spark_builder()\n",
    "\n",
    "    if mode == 'prod':\n",
    "        spark = builder.getOrCreate()\n",
    "    else:\n",
    "        builder = builder.config(\"spark.sql.warehouse.dir\", mode)\n",
    "        spark = configure_spark_with_delta_pip(builder).enableHiveSupport().getOrCreate()\n",
    "    return spark"
   ]
  },
  {
   "cell_type": "code",
   "execution_count": 3,
   "id": "c20a6360",
   "metadata": {},
   "outputs": [
    {
     "name": "stderr",
     "output_type": "stream",
     "text": [
      "23/10/01 17:13:11 WARN Utils: Your hostname, spiriel resolves to a loopback address: 127.0.1.1; using 192.168.15.6 instead (on interface enp3s0)\n",
      "23/10/01 17:13:11 WARN Utils: Set SPARK_LOCAL_IP if you need to bind to another address\n"
     ]
    },
    {
     "name": "stdout",
     "output_type": "stream",
     "text": [
      ":: loading settings :: url = jar:file:/home/ahow/virtual_envs/ahow/lib/python3.10/site-packages/pyspark/jars/ivy-2.5.1.jar!/org/apache/ivy/core/settings/ivysettings.xml\n"
     ]
    },
    {
     "name": "stderr",
     "output_type": "stream",
     "text": [
      "Ivy Default Cache set to: /home/ahow/.ivy2/cache\n",
      "The jars for the packages stored in: /home/ahow/.ivy2/jars\n",
      "io.delta#delta-core_2.12 added as a dependency\n",
      ":: resolving dependencies :: org.apache.spark#spark-submit-parent-1c980090-47b5-4536-83d9-3559feeb1082;1.0\n",
      "\tconfs: [default]\n",
      "\tfound io.delta#delta-core_2.12;2.4.0 in central\n",
      "\tfound io.delta#delta-storage;2.4.0 in central\n",
      "\tfound org.antlr#antlr4-runtime;4.9.3 in central\n",
      ":: resolution report :: resolve 128ms :: artifacts dl 5ms\n",
      "\t:: modules in use:\n",
      "\tio.delta#delta-core_2.12;2.4.0 from central in [default]\n",
      "\tio.delta#delta-storage;2.4.0 from central in [default]\n",
      "\torg.antlr#antlr4-runtime;4.9.3 from central in [default]\n",
      "\t---------------------------------------------------------------------\n",
      "\t|                  |            modules            ||   artifacts   |\n",
      "\t|       conf       | number| search|dwnlded|evicted|| number|dwnlded|\n",
      "\t---------------------------------------------------------------------\n",
      "\t|      default     |   3   |   0   |   0   |   0   ||   3   |   0   |\n",
      "\t---------------------------------------------------------------------\n",
      ":: retrieving :: org.apache.spark#spark-submit-parent-1c980090-47b5-4536-83d9-3559feeb1082\n",
      "\tconfs: [default]\n",
      "\t0 artifacts copied, 3 already retrieved (0kB/4ms)\n",
      "23/10/01 17:13:11 WARN NativeCodeLoader: Unable to load native-hadoop library for your platform... using builtin-java classes where applicable\n",
      "Setting default log level to \"WARN\".\n",
      "To adjust logging level use sc.setLogLevel(newLevel). For SparkR, use setLogLevel(newLevel).\n"
     ]
    }
   ],
   "source": [
    "spark = get_spark_session('test')"
   ]
  },
  {
   "cell_type": "code",
   "execution_count": 4,
   "id": "115666d0",
   "metadata": {},
   "outputs": [
    {
     "name": "stderr",
     "output_type": "stream",
     "text": [
      "23/10/01 17:13:36 WARN package: Truncated the string representation of a plan since it was too large. This behavior can be adjusted by setting 'spark.sql.debug.maxToStringFields'.\n",
      "                                                                                \r"
     ]
    },
    {
     "data": {
      "text/plain": [
       "DataFrame[date: timestamp, date_br: string, humidity: double, pressure: double, rain: struct<precipitation:double>, temperature: bigint, wind: struct<direction:string,directiondegrees:double,gust:double,velocity:double>, precipitation: double, wind_direction: string, wind_directiondegrees: double, wind_gust: double, wind_velocity: double, country: string, id: int, state: string, filename: string, dt_extract: timestamp, dt: timestamp]"
      ]
     },
     "execution_count": 4,
     "metadata": {},
     "output_type": "execute_result"
    }
   ],
   "source": [
    "df = spark.read.format('delta').load(\n",
    "    '/home/ahow/MyGitHub/local_bucket/delta-lake/clima_tempo/forecast_72/'\n",
    ")\n",
    "df.persist()"
   ]
  },
  {
   "cell_type": "code",
   "execution_count": 11,
   "id": "88639dc8",
   "metadata": {},
   "outputs": [
    {
     "name": "stdout",
     "output_type": "stream",
     "text": [
      "+-------------------+-------------------+--------+--------+-----+-----------+--------------------+-------------+--------------+---------------------+---------+-------------+-------+----+-----+--------------------+--------------------+-------------------+\n",
      "|               date|            date_br|humidity|pressure| rain|temperature|                wind|precipitation|wind_direction|wind_directiondegrees|wind_gust|wind_velocity|country|  id|state|            filename|          dt_extract|                 dt|\n",
      "+-------------------+-------------------+--------+--------+-----+-----------+--------------------+-------------+--------------+---------------------+---------+-------------+-------+----+-----+--------------------+--------------------+-------------------+\n",
      "|2023-09-28 21:00:00|29/09/2023 00:00:00|    89.8|  1018.4|{0.0}|         17|{ESE, 129.3, 31.7...|          0.0|           ESE|                129.3|     31.7|         15.7|     BR|3477|   SP|s3://ahow-delta-l...|2023-09-27 01:39:...|2023-09-29 00:00:00|\n",
      "|2023-09-28 22:00:00|29/09/2023 01:00:00|    89.7|  1018.3|{0.0}|         16|{ESE, 126.3, 30.2...|          0.0|           ESE|                126.3|     30.2|         14.5|     BR|3477|   SP|s3://ahow-delta-l...|2023-09-27 01:39:...|2023-09-29 00:00:00|\n",
      "|2023-09-28 23:00:00|29/09/2023 02:00:00|    89.9|  1018.2|{0.0}|         16|{ESE, 122.3, 28.8...|          0.0|           ESE|                122.3|     28.8|         13.6|     BR|3477|   SP|s3://ahow-delta-l...|2023-09-27 01:39:...|2023-09-29 00:00:00|\n",
      "|2023-09-29 00:00:00|29/09/2023 03:00:00|    89.2|  1018.0|{0.0}|         16|{ESE, 118.0, 28.5...|          0.0|           ESE|                118.0|     28.5|         12.9|     BR|3477|   SP|s3://ahow-delta-l...|2023-09-27 01:39:...|2023-09-29 00:00:00|\n",
      "|2023-09-29 01:00:00|29/09/2023 04:00:00|    89.3|  1017.3|{0.0}|         15|{ESE, 119.7, 27.4...|          0.0|           ESE|                119.7|     27.4|         12.1|     BR|3477|   SP|s3://ahow-delta-l...|2023-09-27 01:39:...|2023-09-29 00:00:00|\n",
      "|2023-09-29 02:00:00|29/09/2023 05:00:00|    89.1|  1016.6|{0.0}|         15|{ESE, 125.8, 28.5...|          0.0|           ESE|                125.8|     28.5|         11.7|     BR|3477|   SP|s3://ahow-delta-l...|2023-09-27 01:39:...|2023-09-29 00:00:00|\n",
      "|2023-09-29 03:00:00|29/09/2023 06:00:00|    89.6|  1016.4|{0.0}|         15|{ESE, 132.7, 24.9...|          0.0|           ESE|                132.7|     24.9|         11.7|     BR|3477|   SP|s3://ahow-delta-l...|2023-09-27 01:39:...|2023-09-29 00:00:00|\n",
      "|2023-09-29 04:00:00|29/09/2023 07:00:00|    89.6|  1016.5|{0.0}|         15|{ESE, 126.8, 26.4...|          0.0|           ESE|                126.8|     26.4|         11.4|     BR|3477|   SP|s3://ahow-delta-l...|2023-09-27 01:39:...|2023-09-29 00:00:00|\n",
      "|2023-09-29 05:00:00|29/09/2023 08:00:00|    88.9|  1016.9|{0.0}|         15|{ESE, 119.3, 27.4...|          0.0|           ESE|                119.3|     27.4|         11.5|     BR|3477|   SP|s3://ahow-delta-l...|2023-09-27 01:39:...|2023-09-29 00:00:00|\n",
      "|2023-09-29 06:00:00|29/09/2023 09:00:00|    88.7|  1017.6|{0.0}|         16|{ESE, 112.5, 30.7...|          0.0|           ESE|                112.5|     30.7|         11.5|     BR|3477|   SP|s3://ahow-delta-l...|2023-09-27 01:39:...|2023-09-29 00:00:00|\n",
      "|2023-09-29 07:00:00|29/09/2023 10:00:00|    88.7|  1018.2|{0.0}|         16|{ESE, 116.2, 28.1...|          0.0|           ESE|                116.2|     28.1|         11.7|     BR|3477|   SP|s3://ahow-delta-l...|2023-09-27 01:39:...|2023-09-29 00:00:00|\n",
      "|2023-09-29 08:00:00|29/09/2023 11:00:00|    86.5|  1019.1|{0.0}|         17|{ESE, 123.7, 25.2...|          0.0|           ESE|                123.7|     25.2|         12.5|     BR|3477|   SP|s3://ahow-delta-l...|2023-09-27 01:39:...|2023-09-29 00:00:00|\n",
      "|2023-09-29 09:00:00|29/09/2023 12:00:00|    82.7|  1019.6|{0.8}|         17|{ESE, 129.9, 23.8...|          0.8|           ESE|                129.9|     23.8|         13.4|     BR|3477|   SP|s3://ahow-delta-l...|2023-09-27 01:39:...|2023-09-29 00:00:00|\n",
      "|2023-09-29 10:00:00|29/09/2023 13:00:00|    75.4|  1019.1|{0.8}|         19|{ESE, 129.2, 21.4...|          0.8|           ESE|                129.2|     21.4|         13.1|     BR|3477|   SP|s3://ahow-delta-l...|2023-09-27 01:39:...|2023-09-29 00:00:00|\n",
      "|2023-09-29 11:00:00|29/09/2023 14:00:00|    71.3|  1018.5|{0.8}|         20|{ESE, 132.1, 18.7...|          0.8|           ESE|                132.1|     18.7|         13.2|     BR|3477|   SP|s3://ahow-delta-l...|2023-09-27 01:39:...|2023-09-29 00:00:00|\n",
      "|2023-09-29 12:00:00|29/09/2023 15:00:00|    76.4|  1018.0|{0.8}|         21|{ESE, 132.0, 16.6...|          0.8|           ESE|                132.0|     16.6|         13.4|     BR|3477|   SP|s3://ahow-delta-l...|2023-09-27 01:39:...|2023-09-29 00:00:00|\n",
      "|2023-09-29 13:00:00|29/09/2023 16:00:00|    81.7|  1017.5|{0.8}|         23|{ESE, 133.9, 16.6...|          0.8|           ESE|                133.9|     16.6|         12.1|     BR|3477|   SP|s3://ahow-delta-l...|2023-09-27 01:39:...|2023-09-29 00:00:00|\n",
      "|2023-09-29 14:00:00|29/09/2023 17:00:00|    84.4|  1016.9|{0.8}|         24|{SE, 152.2, 15.2,...|          0.8|            SE|                152.2|     15.2|         13.8|     BR|3477|   SP|s3://ahow-delta-l...|2023-09-27 01:39:...|2023-09-29 00:00:00|\n",
      "|2023-09-29 15:00:00|29/09/2023 18:00:00|    85.9|  1016.6|{0.0}|         25|{SSE, 161.2, 14.8...|          0.0|           SSE|                161.2|     14.8|         19.2|     BR|3477|   SP|s3://ahow-delta-l...|2023-09-27 01:39:...|2023-09-29 00:00:00|\n",
      "|2023-09-29 16:00:00|29/09/2023 19:00:00|    87.1|  1016.7|{0.0}|         25|{SE, 152.2, 17.7,...|          0.0|            SE|                152.2|     17.7|         16.3|     BR|3477|   SP|s3://ahow-delta-l...|2023-09-27 01:39:...|2023-09-29 00:00:00|\n",
      "+-------------------+-------------------+--------+--------+-----+-----------+--------------------+-------------+--------------+---------------------+---------+-------------+-------+----+-----+--------------------+--------------------+-------------------+\n",
      "only showing top 20 rows\n",
      "\n"
     ]
    }
   ],
   "source": [
    "df.createOrReplaceTempView(\"temp\")\n",
    "spark.sql(\"SELECT * FROM temp\").show()"
   ]
  },
  {
   "cell_type": "code",
   "execution_count": null,
   "id": "62160248",
   "metadata": {},
   "outputs": [],
   "source": [
    "spark.sql(f\"\"\"\n",
    "\n",
    "\"\"\")"
   ]
  }
 ],
 "metadata": {
  "kernelspec": {
   "display_name": "Python 3 (ipykernel)",
   "language": "python",
   "name": "python3"
  },
  "language_info": {
   "codemirror_mode": {
    "name": "ipython",
    "version": 3
   },
   "file_extension": ".py",
   "mimetype": "text/x-python",
   "name": "python",
   "nbconvert_exporter": "python",
   "pygments_lexer": "ipython3",
   "version": "3.10.12"
  }
 },
 "nbformat": 4,
 "nbformat_minor": 5
}
