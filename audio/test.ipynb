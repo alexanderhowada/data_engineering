{
 "cells": [
  {
   "cell_type": "code",
   "execution_count": 1,
   "id": "65a9ddd7",
   "metadata": {},
   "outputs": [],
   "source": [
    "import cv2\n",
    "import librosa\n",
    "import numpy as np\n",
    "from moviepy.editor import VideoFileClip\n",
    "from moviepy.audio.AudioClip import AudioArrayClip"
   ]
  },
  {
   "cell_type": "code",
   "execution_count": 2,
   "id": "aad585eb",
   "metadata": {},
   "outputs": [
    {
     "name": "stdout",
     "output_type": "stream",
     "text": [
      "Moviepy - Building video test.mp4.\n",
      "MoviePy - Writing audio in testTEMP_MPY_wvf_snd.mp4\n"
     ]
    },
    {
     "name": "stderr",
     "output_type": "stream",
     "text": [
      "                                                                                \r"
     ]
    },
    {
     "name": "stdout",
     "output_type": "stream",
     "text": [
      "MoviePy - Done.\n",
      "Moviepy - Writing video test.mp4\n",
      "\n"
     ]
    },
    {
     "name": "stderr",
     "output_type": "stream",
     "text": [
      "t:  58%|█████████▊       | 1613231/2778300 [1:19:57<57:45, 336.18it/s, now=None]"
     ]
    }
   ],
   "source": [
    "def remove_noise(audio, noise_threshold):\n",
    "    return librosa.effects.trim(audio, top_db=noise_threshold)[0]\n",
    "\n",
    "def shift_pitch(audio, shift_factor):\n",
    "    return librosa.effects.pitch_shift(\n",
    "        audio, sr=audio.shape[0], n_steps=shift_factor,\n",
    "        bins_per_octave=10\n",
    "    )\n",
    "\n",
    "def cut_high_frequencies(audio, cutoff_freq):\n",
    "    audio_fft = np.fft.fft(audio)\n",
    "    audio_fft[int(cutoff_freq):] = 0\n",
    "    filtered_audio = np.fft.ifft(audio_fft)\n",
    "    \n",
    "    return np.real(filtered_audio)\n",
    "\n",
    "def process_video(input_video_path, output_video_path,\n",
    "                  noise_threshold=20, shift_factor=12, cutoff_freq=15000):\n",
    "    # Load the video and extract audio\n",
    "    clip = VideoFileClip(input_video_path)\n",
    "    audio = clip.audio.to_soundarray()[:, 0]  # Select the first channel (mono)\n",
    "\n",
    "    audio = audio / np.max(np.abs(audio))\n",
    "    audio = cut_high_frequencies(audio, cutoff_freq)\n",
    "    audio = shift_pitch(audio, shift_factor)\n",
    "\n",
    "    audio = AudioArrayClip(np.expand_dims(audio, axis=1), fps=clip.audio.fps)\n",
    "    \n",
    "    clip = clip.set_audio(audio)\n",
    "    clip.write_videofile(output_video_path, codec=\"libx264\", audio_codec=\"aac\")\n",
    "\n",
    "input_path = 'noise2_20230603_163513.mp4'\n",
    "output_path = 'test.mp4'\n",
    "process_video(input_path, output_path)"
   ]
  },
  {
   "cell_type": "code",
   "execution_count": null,
   "id": "0fd704c4",
   "metadata": {},
   "outputs": [],
   "source": []
  }
 ],
 "metadata": {
  "kernelspec": {
   "display_name": "Python 3 (ipykernel)",
   "language": "python",
   "name": "python3"
  },
  "language_info": {
   "codemirror_mode": {
    "name": "ipython",
    "version": 3
   },
   "file_extension": ".py",
   "mimetype": "text/x-python",
   "name": "python",
   "nbconvert_exporter": "python",
   "pygments_lexer": "ipython3",
   "version": "3.10.6"
  }
 },
 "nbformat": 4,
 "nbformat_minor": 5
}
