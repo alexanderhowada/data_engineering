{
 "cells": [
  {
   "cell_type": "code",
   "execution_count": 6,
   "id": "e732f33a",
   "metadata": {},
   "outputs": [],
   "source": [
    "import json\n",
    "\n",
    "import boto3\n",
    "from dotenv import load_dotenv"
   ]
  },
  {
   "cell_type": "code",
   "execution_count": 12,
   "id": "9a318ab5",
   "metadata": {},
   "outputs": [
    {
     "name": "stdout",
     "output_type": "stream",
     "text": [
      "{\n",
      "    \"statusCode\": 200,\n",
      "    \"body\": \"\\\"this is a test\\\"\"\n",
      "}\n"
     ]
    }
   ],
   "source": [
    "lambda_cli = boto3.client('lambda')\n",
    "r = lambda_cli.invoke(\n",
    "    FunctionName='first_lambda',\n",
    "    Payload='{\"a\": \"b\"}'\n",
    ")\n",
    "j = json.load(r['Payload'])\n",
    "print(json.dumps(j, indent=4))"
   ]
  }
 ],
 "metadata": {
  "kernelspec": {
   "display_name": "Python 3 (ipykernel)",
   "language": "python",
   "name": "python3"
  },
  "language_info": {
   "codemirror_mode": {
    "name": "ipython",
    "version": 3
   },
   "file_extension": ".py",
   "mimetype": "text/x-python",
   "name": "python",
   "nbconvert_exporter": "python",
   "pygments_lexer": "ipython3",
   "version": "3.10.12"
  }
 },
 "nbformat": 4,
 "nbformat_minor": 5
}
